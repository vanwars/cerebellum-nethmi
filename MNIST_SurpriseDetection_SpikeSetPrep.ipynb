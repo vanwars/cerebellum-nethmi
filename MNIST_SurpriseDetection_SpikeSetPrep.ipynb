{
  "cells": [
    {
      "cell_type": "markdown",
      "metadata": {
        "colab_type": "text",
        "id": "view-in-github"
      },
      "source": [
        "<a href=\"https://colab.research.google.com/github/vanwars/cerebellum-nethmi/blob/main/MNIST_SurpriseDetection_SpikeSetPrep.ipynb\" target=\"_parent\"><img src=\"https://colab.research.google.com/assets/colab-badge.svg\" alt=\"Open In Colab\"/></a>"
      ]
    },
    {
      "cell_type": "code",
      "execution_count": null,
      "metadata": {
        "colab": {
          "base_uri": "https://localhost:8080/"
        },
        "id": "vKBcyMhF0Qlv",
        "outputId": "704a4485-76e8-49ab-9bce-e8dcc057482b"
      },
      "outputs": [],
      "source": [
        "from google.colab import drive\n",
        "drive.mount('/content/gdrive')"
      ]
    },
    {
      "cell_type": "code",
      "execution_count": null,
      "metadata": {
        "colab": {
          "base_uri": "https://localhost:8080/"
        },
        "id": "KxZGZton6MFc",
        "outputId": "45f10d46-021e-4d41-d19d-47b7b085715c"
      },
      "outputs": [],
      "source": [
        "%cd /content/gdrive/MyDrive/Research/BRAID/Code/cerebellum"
      ]
    },
    {
      "cell_type": "code",
      "execution_count": null,
      "metadata": {
        "colab": {
          "base_uri": "https://localhost:8080/"
        },
        "id": "MYMRXC0-0dfa",
        "outputId": "c307ad68-2993-4db5-fbe4-6ede302d1c19"
      },
      "outputs": [],
      "source": [
        "!pip install brian2"
      ]
    },
    {
      "cell_type": "code",
      "execution_count": null,
      "metadata": {
        "id": "iFbAKHYi0kI5"
      },
      "outputs": [],
      "source": [
        "from keras.datasets import mnist\n",
        "from brian2 import *\n",
        "import brian2.numpy_ as np\n",
        "import matplotlib.pyplot as plt\n",
        "from sklearn.ensemble import RandomForestClassifier\n",
        "from sklearn.metrics import accuracy_score, confusion_matrix\n",
        "import json\n",
        "import numpy"
      ]
    },
    {
      "cell_type": "code",
      "execution_count": null,
      "metadata": {
        "colab": {
          "base_uri": "https://localhost:8080/"
        },
        "id": "6NJzVnGr0oSX",
        "outputId": "2f96e5a1-4dc8-45d1-fcb2-f542a77490ac"
      },
      "outputs": [],
      "source": [
        "(X_train, y_train), (X_test, y_test) = mnist.load_data()\n",
        "\n",
        "# simplified classification (everything but 0)\n",
        "X_train = X_train[(y_train != 0) ]\n",
        "y_train = y_train[(y_train != 0) ]\n",
        "\n",
        "X_test = X_test[(y_test == 0) ]\n",
        "y_test = y_test[(y_test == 0) ]\n",
        "\n",
        "# pixel intensity to Hz (255 becoms ~63Hz)\n",
        "X_train = X_train / 4\n",
        "X_test = X_test / 4\n",
        "\n",
        "X_train.shape, X_test.shape"
      ]
    },
    {
      "cell_type": "code",
      "execution_count": null,
      "metadata": {
        "colab": {
          "base_uri": "https://localhost:8080/",
          "height": 673
        },
        "id": "MHeX_8PM01un",
        "outputId": "5627b8af-9d24-4df2-8ae0-f6748938c1fe"
      },
      "outputs": [],
      "source": [
        "plt.figure(figsize=(16,8))\n",
        "for img in range(32):\n",
        "    plt.subplot(4,8,1+img)\n",
        "    plt.title(y_train[img])\n",
        "    plt.imshow(X_train[img])\n",
        "    plt.axis('off')"
      ]
    },
    {
      "cell_type": "code",
      "execution_count": null,
      "metadata": {},
      "outputs": [],
      "source": [
        "def show_digit(label, bitmap, sigfigs=3, convert_to_int=False, hide_zeros=True):\n",
        "    num_cols = 28 * (sigfigs + 1)\n",
        "    print(num_cols * '-')\n",
        "    print(\"This is a\", label)\n",
        "    print(num_cols * '-')\n",
        "    for row in bitmap:\n",
        "        for pixel in row:\n",
        "            if convert_to_int:\n",
        "                pixel = int(pixel)\n",
        "            if hide_zeros and pixel == 0:\n",
        "                pixel = \"\"\n",
        "            print(f'{pixel:>{sigfigs}}', end=\"|\")\n",
        "        print(\"\")\n",
        "\n",
        "\n",
        "def show_first_n_digits(training_bitmaps, training_labels, n=5, sigfigs=3, convert_to_int=False, hide_zeros=True):\n",
        "    i = 0\n",
        "    for label in training_labels:\n",
        "        if i > n:\n",
        "            break\n",
        "        show_digit(\n",
        "            label, training_bitmaps[i], sigfigs=sigfigs, convert_to_int=convert_to_int, hide_zeros=hide_zeros)\n",
        "        i += 1\n",
        "\n",
        "\n",
        "show_first_n_digits(X_train, y_train, n=5, sigfigs=2, convert_to_int=True)"
      ]
    },
    {
      "cell_type": "code",
      "execution_count": null,
      "metadata": {
        "id": "tytAZHnkCM3v"
      },
      "outputs": [],
      "source": [
        "n_input = 28*28 # input layer\n",
        "n_e = 1000 # e - excitatory\n",
        "n_i = n_e # i - inhibitory\n",
        "\n",
        "v_rest_e = -60.*mV # v - membrane potential\n",
        "v_reset_e = -65.*mV\n",
        "v_thresh_e = -52.*mV\n",
        "\n",
        "v_rest_i = -60.*mV\n",
        "v_reset_i = -45.*mV\n",
        "v_thresh_i = -40.*mV\n",
        "\n",
        "taupre = 20*ms\n",
        "taupost = taupre\n",
        "gmax = .05 #.01\n",
        "dApre = .01\n",
        "dApost = -dApre * taupre / taupost * 1.05\n",
        "dApost *= gmax\n",
        "dApre *= gmax\n",
        "\n",
        "# Apre and Apost - presynaptic and postsynaptic traces, lr - learning rate\n",
        "stdp='''w : 1\n",
        "    lr : 1 (shared)\n",
        "    dApre/dt = -Apre / taupre : 1 (event-driven)\n",
        "    dApost/dt = -Apost / taupost : 1 (event-driven)'''\n",
        "pre='''ge += w\n",
        "    Apre += dApre\n",
        "    w = clip(w + lr*Apost, 0, gmax)'''\n",
        "post='''Apost += dApost\n",
        "    w = clip(w + lr*Apre, 0, gmax)'''"
      ]
    },
    {
      "cell_type": "code",
      "execution_count": null,
      "metadata": {
        "id": "bFO9EaYKTnlj"
      },
      "outputs": [],
      "source": [
        "class Model():\n",
        "\n",
        "    def __init__(self, debug=False):\n",
        "        app = {}\n",
        "\n",
        "        # input images as rate encoded Poisson generators\n",
        "        app['PG'] = PoissonGroup(n_input, rates=np.zeros(n_input)*Hz, name='PG')\n",
        "\n",
        "        # excitatory group\n",
        "        neuron_e = '''\n",
        "            dv/dt = (ge*(0*mV-v) + gi*(-100*mV-v) + (v_rest_e-v)) / (100*ms) : volt\n",
        "            dge/dt = -ge / (5*ms) : 1\n",
        "            dgi/dt = -gi / (10*ms) : 1\n",
        "            '''\n",
        "        app['EG'] = NeuronGroup(n_e, neuron_e, threshold='v>v_thresh_e', refractory=5*ms, reset='v=v_reset_e', method='euler', name='EG')\n",
        "        app['EG'].v = v_rest_e - 20.*mV\n",
        "\n",
        "        if (debug):\n",
        "            app['ESP'] = SpikeMonitor(app['EG'], name='ESP')\n",
        "            app['ESM'] = StateMonitor(app['EG'], ['v'], record=True, name='ESM')\n",
        "            app['ERM'] = PopulationRateMonitor(app['EG'], name='ERM')\n",
        "\n",
        "        # ibhibitory group\n",
        "        neuron_i = '''\n",
        "            dv/dt = (ge*(0*mV-v) + (v_rest_i-v)) / (10*ms) : volt\n",
        "            dge/dt = -ge / (5*ms) : 1\n",
        "            '''\n",
        "        app['IG'] = NeuronGroup(n_i, neuron_i, threshold='v>v_thresh_i', refractory=2*ms, reset='v=v_reset_i', method='euler', name='IG')\n",
        "        app['IG'].v = v_rest_i - 20.*mV\n",
        "\n",
        "        if (debug):\n",
        "            app['ISP'] = SpikeMonitor(app['IG'], name='ISP')\n",
        "            app['ISM'] = StateMonitor(app['IG'], ['v'], record=True, name='ISM')\n",
        "            app['IRM'] = PopulationRateMonitor(app['IG'], name='IRM')\n",
        "\n",
        "        # poisson generators one-to-all excitatory neurons with plastic connections\n",
        "        app['S1'] = Synapses(app['PG'], app['EG'], stdp, on_pre=pre, on_post=post, method='euler', name='S1')\n",
        "        app['S1'].connect()\n",
        "        app['S1'].w = 'rand()*gmax' # random weights initialisation\n",
        "        app['S1'].lr = 1 # enable stdp\n",
        "\n",
        "        if (debug):\n",
        "            # some synapses\n",
        "            app['S1M'] = StateMonitor(app['S1'], ['w', 'Apre', 'Apost'], record=app['S1'][380,:4], name='S1M')\n",
        "\n",
        "        # excitatory neurons one-to-one inhibitory neurons\n",
        "        app['S2'] = Synapses(app['EG'], app['IG'], 'w : 1', on_pre='ge += w', name='S2')\n",
        "        app['S2'].connect(j='i')\n",
        "        app['S2'].delay = 'rand()*10*ms'\n",
        "        app['S2'].w = 3 # very strong fixed weights to ensure corresponding inhibitory neuron will always fire\n",
        "\n",
        "        # inhibitory neurons one-to-all-except-one excitatory neurons\n",
        "        app['S3'] = Synapses(app['IG'], app['EG'], 'w : 1', on_pre='gi += w', name='S3')\n",
        "        app['S3'].connect(condition='i!=j')\n",
        "        app['S3'].delay = 'rand()*5*ms'\n",
        "        app['S3'].w = .03 # weights are selected in such a way as to maintain a balance between excitation and ibhibition\n",
        "\n",
        "        self.net = Network(app.values())\n",
        "        self.net.run(0*second)\n",
        "\n",
        "    def __getitem__(self, key):\n",
        "        return self.net[key]\n",
        "\n",
        "    def train(self, X, epoch=1):\n",
        "        self.net['S1'].lr = 1 # stdp on\n",
        "\n",
        "        for ep in range(epoch):\n",
        "            for idx in range(len(X)):\n",
        "\n",
        "                if (idx % 100 == 0): print(str(epoch),\"_\",str(idx))\n",
        "                # active mode\n",
        "                self.net['PG'].rates = X[idx].ravel()*Hz\n",
        "                self.net.run(0.35*second)\n",
        "\n",
        "                # passive mode\n",
        "                self.net['PG'].rates = np.zeros(n_input)*Hz\n",
        "                self.net.run(0.15*second)\n",
        "\n",
        "    def evaluate(self, X):\n",
        "        self.net['S1'].lr = 0  # stdp off\n",
        "        store_idx = numpy.zeros(10).astype(int)\n",
        "\n",
        "        for idx in range(len(X)):\n",
        "\n",
        "            if (idx % 100 == 0): print(str(idx))\n",
        "\n",
        "            # rate monitor to count spikes\n",
        "            mon = SpikeMonitor(self.net['EG'])\n",
        "            self.net.add(mon)\n",
        "\n",
        "            # active mode (larger active mode)\n",
        "            self.net['PG'].rates = X[idx].ravel()*Hz\n",
        "            self.net.run(5*second)\n",
        "\n",
        "            file_name = \"MNIST_epoch1_eineuron1000_train1to9/spike_dict_label_\" + str(y_test[idx]) + \"_instance_\"+str(store_idx[y_test[idx]])+\".txt\"\n",
        "            f = open(file_name,\"w\")\n",
        "            f.write( str(mon.spike_trains()))\n",
        "            f.close()\n",
        "            store_idx[y_test[idx]] += 1"
      ]
    },
    {
      "cell_type": "code",
      "execution_count": null,
      "metadata": {
        "colab": {
          "base_uri": "https://localhost:8080/"
        },
        "id": "mT_JBejqTsP9",
        "outputId": "dea3efdb-9b27-4093-e5a2-7f121e359791"
      },
      "outputs": [],
      "source": [
        "def test1(train_items=1000, eval_items=1):\n",
        "\n",
        "    seed(0)\n",
        "\n",
        "    model = Model(debug=True)\n",
        "    model.train(X_train[:train_items], epoch=1)\n",
        "    model.net.store('train', 'trainall_but_0_epoch_1_eineuron_1000')\n",
        "    #model.net.restore('train', 'trainall_but_0_epoch_1_eineuron_1000')\n",
        "\n",
        "    model.evaluate(X_test[:eval_items])\n",
        "\n",
        "test1()"
      ]
    }
  ],
  "metadata": {
    "colab": {
      "include_colab_link": true,
      "machine_shape": "hm",
      "provenance": []
    },
    "kernelspec": {
      "display_name": "Python 3",
      "name": "python3"
    },
    "language_info": {
      "codemirror_mode": {
        "name": "ipython",
        "version": 3
      },
      "file_extension": ".py",
      "mimetype": "text/x-python",
      "name": "python",
      "nbconvert_exporter": "python",
      "pygments_lexer": "ipython3",
      "version": "3.9.6"
    }
  },
  "nbformat": 4,
  "nbformat_minor": 0
}
